{
 "cells": [
  {
   "cell_type": "markdown",
   "metadata": {},
   "source": [
    "# \" Installing CUDA 11 in ubuntu 20.04 \""
   ]
  },
  {
   "cell_type": "markdown",
   "metadata": {},
   "source": [
    "\"My Laptop Configuration\"\n",
    "\n",
    "Name : MSI GP65 Leopard 95D\n",
    "\n",
    "GPU  : Geforce GTX 16 SERIES\n",
    "\n",
    "OS   : UBUNTU 20.04\n",
    "\n",
    "Nvidia driver : 450\n"
   ]
  },
  {
   "cell_type": "markdown",
   "metadata": {},
   "source": [
    "# A little Cleanup is needed use below commands"
   ]
  },
  {
   "cell_type": "markdown",
   "metadata": {},
   "source": [
    "sudo rm /etc/apt/sources.list.d/cuda*\n",
    "\n",
    "sudo apt remove --autoremove nvidia-cuda-toolkit\n",
    "\n",
    "sudo apt remove --autoremove nvidia-*\n",
    "\n",
    "sudo apt-get purge nvidia*\n",
    "\n",
    "sudo apt-get autoremove\n",
    "\n",
    "sudo apt-get autoclean\n",
    "\n",
    "sudo rm -rf /usr/local/cuda*"
   ]
  },
  {
   "cell_type": "markdown",
   "metadata": {},
   "source": [
    "# Now we are free from our commited Sins. Here we go with a fresh installation."
   ]
  },
  {
   "cell_type": "markdown",
   "metadata": {},
   "source": [
    "sudo apt update\n",
    "\n",
    "sudo add-apt-repository ppa:graphics-drivers\n",
    "\n",
    "sudo apt-key adv --fetch-keys http://developer.download.nvidia.com/compute/cuda/repos/ubuntu2004/x86_64/7fa2af80.pub\n",
    "\n",
    "\n",
    "sudo bash -c 'echo \"deb http://developer.download.nvidia.com/compute/cuda/repos/ubuntu2004/x86_64 /\" > /etc/apt/sources.list.d/cuda.list'\n",
    "\n",
    "\n",
    "sudo bash -c 'echo \"deb http://developer.download.nvidia.com/compute/machine-learning/repos/ubuntu1804/x86_64 /\" > /etc/apt/sources.list.d/cuda_learn.list'\n",
    "\n",
    "\n",
    "sudo apt update\n",
    "\n",
    "sudo apt install cuda-11-0\n",
    "\n",
    "sudo apt install libcudnn7     or 8 its your choice\n"
   ]
  },
  {
   "cell_type": "markdown",
   "metadata": {},
   "source": [
    "# SET the path"
   ]
  },
  {
   "cell_type": "code",
   "execution_count": null,
   "metadata": {},
   "outputs": [],
   "source": [
    "sudo vim ~/.profile\n",
    "\n",
    "\n",
    "## and PASTE \n",
    "\n",
    "if [ -d \"/usr/local/cuda-11.0/bin/\" ]; then\n",
    "    export PATH=/usr/local/cuda-11.0/bin${PATH:+:${PATH}}\n",
    "    export LD_LIBRARY_PATH=/usr/local/cuda-11.0/lib64${LD_LIBRARY_PATH:+:${LD_LIBRARY_PATH}}\n",
    "fi "
   ]
  },
  {
   "cell_type": "markdown",
   "metadata": {},
   "source": [
    "# Reboot you beast "
   ]
  },
  {
   "cell_type": "markdown",
   "metadata": {},
   "source": [
    "NOTE :  You will get updates on your software updater. Please do it.\n",
    "\n",
    "Do a check using below commands:\n",
    "\n",
    "nvidia-smi\n",
    "nvcc -V\n",
    "cat /usr/lib/cuda/include/cudnn_version.h | grep CUDNN_MAJOR -A 2\n"
   ]
  },
  {
   "cell_type": "markdown",
   "metadata": {},
   "source": [
    "# Install TF-gpu and do check again\n",
    "\n",
    "# tf.test.gpu_device_name()\n"
   ]
  },
  {
   "cell_type": "code",
   "execution_count": null,
   "metadata": {},
   "outputs": [],
   "source": []
  }
 ],
 "metadata": {
  "kernelspec": {
   "display_name": "Python 3",
   "language": "python",
   "name": "python3"
  },
  "language_info": {
   "codemirror_mode": {
    "name": "ipython",
    "version": 3
   },
   "file_extension": ".py",
   "mimetype": "text/x-python",
   "name": "python",
   "nbconvert_exporter": "python",
   "pygments_lexer": "ipython3",
   "version": "3.8.3"
  }
 },
 "nbformat": 4,
 "nbformat_minor": 4
}
